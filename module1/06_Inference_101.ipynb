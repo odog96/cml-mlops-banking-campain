{
 "cells": [
  {
   "cell_type": "markdown",
   "id": "0282d17e",
   "metadata": {},
   "source": [
    "# Inference 101: Make a Prediction\n",
    "\n",
    "Simple example: Load one customer record and get a prediction from the model."
   ]
  },
  {
   "cell_type": "code",
   "execution_count": null,
   "id": "03ba115b",
   "metadata": {},
   "outputs": [],
   "source": [
    "import pandas as pd\n",
    "import json\n",
    "import requests\n",
    "import numpy as np\n",
    "import sys\n",
    "import os\n",
    "\n",
    "# Add module1 to path for imports\n",
    "sys.path.insert(0, '/home/cdsw/module1')\n",
    "\n",
    "print(\"Libraries imported\")"
   ]
  },
  {
   "cell_type": "code",
   "execution_count": null,
   "id": "10e83ff3",
   "metadata": {},
   "outputs": [],
   "source": [
    "# Model endpoint\n",
    "MODEL_ENDPOINT = \"https://modelservice.ml-5f133919-c5e.se-sandb.a465-9q4k.cloudera.site/model\"\n",
    "ACCESS_KEY = \"mtk6dlvdtx4rx8yyntx0cj0k55se46za\"\n",
    "\n",
    "print(f\"Model: {MODEL_ENDPOINT}\")"
   ]
  },
  {
   "cell_type": "markdown",
   "id": "eb6fba6f",
   "metadata": {},
   "source": [
    "## Step 1: Load Single Row of Preprocessed Data"
   ]
  },
  {
   "cell_type": "code",
   "execution_count": null,
   "id": "f4b4aaa0",
   "metadata": {},
   "outputs": [],
   "source": [
    "# Load and preprocess data following the same process as test_endpoint.py\n",
    "from preprocessing import PreprocessingPipeline, FeatureEngineer\n",
    "\n",
    "# Load raw inference data\n",
    "df_raw = pd.read_csv(\"inference_data/raw_inference_data.csv\", sep=\";\")\n",
    "print(f\"Loaded raw data: {df_raw.shape}\")\n",
    "\n",
    "# Load full training data for preprocessing fit\n",
    "df_train = pd.read_csv(\"data/bank-additional/bank-additional-full.csv\", sep=\";\")\n",
    "print(f\"Loaded training data: {df_train.shape}\")\n",
    "\n",
    "# Apply feature engineering\n",
    "fe = FeatureEngineer()\n",
    "df_train_eng = fe.transform(df_train)\n",
    "df_engineered = fe.transform(df_raw)\n",
    "\n",
    "# Define features\n",
    "numeric_features = [\n",
    "    'age', 'duration', 'campaign', 'pdays', 'previous',\n",
    "    'emp.var.rate', 'cons.price.idx', 'cons.conf.idx', 'euribor3m', 'nr.employed',\n",
    "    'engagement_score'\n",
    "]\n",
    "\n",
    "categorical_features = [\n",
    "    'job', 'marital', 'education', 'default',\n",
    "    'housing', 'loan', 'contact', 'month', 'day_of_week', 'poutcome',\n",
    "    'age_group', 'emp_var_category', 'duration_category'\n",
    "]\n",
    "\n",
    "# Create and fit preprocessor on full training data\n",
    "preprocessor = PreprocessingPipeline(\n",
    "    numeric_features=numeric_features,\n",
    "    categorical_features=categorical_features,\n",
    "    include_engagement=True\n",
    ")\n",
    "\n",
    "X_train_full = df_train_eng[numeric_features + categorical_features].copy()\n",
    "preprocessor.fit(X_train_full)\n",
    "\n",
    "# Transform inference data\n",
    "X_engineered = df_engineered[numeric_features + categorical_features].copy()\n",
    "X_processed = pd.DataFrame(\n",
    "    preprocessor.transform(X_engineered),\n",
    "    columns=preprocessor.get_feature_names()\n",
    ")\n",
    "\n",
    "# Get just the first row\n",
    "single_row = X_processed.iloc[[0]]\n",
    "\n",
    "print(f\"Loaded and preprocessed single row\")\n",
    "print(f\"Shape: {single_row.shape}\")\n",
    "print(f\"Columns: {single_row.shape[1]}\")"
   ]
  },
  {
   "cell_type": "markdown",
   "id": "bb5b073b",
   "metadata": {},
   "source": [
    "## Step 2: Format for API"
   ]
  },
  {
   "cell_type": "code",
   "execution_count": null,
   "id": "0014cadc",
   "metadata": {},
   "outputs": [],
   "source": [
    "# Create the API payload with proper handling of NaN/inf values\n",
    "row_dict = single_row.iloc[0].to_dict()\n",
    "\n",
    "# Convert NaN and inf values for JSON serialization\n",
    "for key, val in row_dict.items():\n",
    "    if pd.isna(val):\n",
    "        row_dict[key] = 0\n",
    "    elif np.isinf(val):\n",
    "        row_dict[key] = 1e10 if val > 0 else -1e10\n",
    "    else:\n",
    "        row_dict[key] = float(val)\n",
    "\n",
    "payload = {\n",
    "    \"accessKey\": ACCESS_KEY,\n",
    "    \"request\": {\n",
    "        \"dataframe_split\": {\n",
    "            \"columns\": list(row_dict.keys()),\n",
    "            \"data\": [list(row_dict.values())]\n",
    "        }\n",
    "    }\n",
    "}\n",
    "\n",
    "payload_json = json.dumps(payload)\n",
    "\n",
    "print(f\"Payload created\")\n",
    "print(f\"Size: {len(payload_json)} bytes\")"
   ]
  },
  {
   "cell_type": "markdown",
   "id": "f90e0d66",
   "metadata": {},
   "source": [
    "## Step 3: Send to Model Service"
   ]
  },
  {
   "cell_type": "code",
   "execution_count": null,
   "id": "0c4f27fe",
   "metadata": {},
   "outputs": [],
   "source": [
    "# Send request to model\n",
    "response = requests.post(\n",
    "    MODEL_ENDPOINT,\n",
    "    data=payload_json,\n",
    "    headers={'Content-Type': 'application/json'},\n",
    "    timeout=30\n",
    ")\n",
    "\n",
    "print(f\"Response status: {response.status_code}\")"
   ]
  },
  {
   "cell_type": "markdown",
   "id": "ddc4716a",
   "metadata": {},
   "source": [
    "## Step 4: Get the Prediction"
   ]
  },
  {
   "cell_type": "code",
   "execution_count": null,
   "id": "c6e9b46b",
   "metadata": {},
   "outputs": [],
   "source": [
    "# Parse response and handle errors\n",
    "print(f\"Response status: {response.status_code}\\n\")\n",
    "\n",
    "if response.status_code != 200:\n",
    "    print(\"❌ Error in response!\")\n",
    "    print(f\"Status: {response.status_code}\")\n",
    "    print(f\"Response text: {response.text}\")\n",
    "else:\n",
    "    try:\n",
    "        result = response.json()\n",
    "        prediction = result['response']['prediction'][0]\n",
    "\n",
    "        print(f\"\\n\" + \"=\"*50)\n",
    "        print(f\"PREDICTION: {prediction}\")\n",
    "        print(f\"=\"*50)\n",
    "\n",
    "        if prediction == 0:\n",
    "            print(\"\\nResult: Customer will NOT subscribe to term deposit\")\n",
    "        else:\n",
    "            print(\"\\nResult: Customer WILL subscribe to term deposit\")\n",
    "\n",
    "        print(f\"\\nFull response:\")\n",
    "        print(result)\n",
    "        \n",
    "    except (KeyError, IndexError, ValueError) as e:\n",
    "        print(f\"❌ Error parsing response: {e}\")\n",
    "        print(f\"\\nResponse received:\")\n",
    "        print(response.json())"
   ]
  },
  {
   "cell_type": "code",
   "execution_count": null,
   "id": "01dc8223-2349-4ddf-9eab-63d2b8528e58",
   "metadata": {},
   "outputs": [],
   "source": []
  }
 ],
 "metadata": {
  "kernelspec": {
   "display_name": "Python 3 (ipykernel)",
   "language": "python",
   "name": "python3"
  },
  "language_info": {
   "codemirror_mode": {
    "name": "ipython",
    "version": 3
   },
   "file_extension": ".py",
   "mimetype": "text/x-python",
   "name": "python",
   "nbconvert_exporter": "python",
   "pygments_lexer": "ipython3",
   "version": "3.10.17"
  }
 },
 "nbformat": 4,
 "nbformat_minor": 5
}
