{
 "cells": [
  {
   "cell_type": "code",
   "execution_count": 14,
   "id": "c141118a-5034-4a4e-b878-9dd1928aeffa",
   "metadata": {},
   "outputs": [
    {
     "name": "stdout",
     "output_type": "stream",
     "text": [
      "Spark Application Id:spark-6fe8d21249c2421bbf5112bdd2f13d1f\n"
     ]
    },
    {
     "name": "stderr",
     "output_type": "stream",
     "text": [
      "Hive Session ID = a67ae23f-0f7c-49c7-8dd9-a175697bd966\n"
     ]
    },
    {
     "name": "stdout",
     "output_type": "stream",
     "text": [
      "+--------------------+\n",
      "|           namespace|\n",
      "+--------------------+\n",
      "|   amiranda_airlines|\n",
      "|amiranda_airlines...|\n",
      "|bnk_mlops_hol_oza...|\n",
      "|             default|\n",
      "|  information_schema|\n",
      "|                 sys|\n",
      "+--------------------+\n",
      "\n"
     ]
    }
   ],
   "source": [
    "import cml.data_v1 as cmldata\n",
    "\n",
    "# Sample in-code customization of spark configurations\n",
    "#from pyspark import SparkContext\n",
    "#SparkContext.setSystemProperty('spark.executor.cores', '1')\n",
    "#SparkContext.setSystemProperty('spark.executor.memory', '2g')\n",
    "\n",
    "CONNECTION_NAME = \"se-aws-edl\"\n",
    "conn = cmldata.get_connection(CONNECTION_NAME)\n",
    "spark = conn.get_spark_session()\n",
    "\n",
    "# Sample usage to run query through spark\n",
    "EXAMPLE_SQL_QUERY = \"show databases\"\n",
    "spark.sql(EXAMPLE_SQL_QUERY).show()"
   ]
  },
  {
   "cell_type": "code",
   "execution_count": 15,
   "id": "5d5c19f6-2e07-4bc0-aa02-c23868bbf91b",
   "metadata": {},
   "outputs": [
    {
     "name": "stdout",
     "output_type": "stream",
     "text": [
      "Tables in bnk_mlops_hol_ozarate:\n"
     ]
    },
    {
     "name": "stderr",
     "output_type": "stream",
     "text": [
      "[Stage 0:>                                                          (0 + 1) / 1]\r"
     ]
    },
    {
     "name": "stdout",
     "output_type": "stream",
     "text": [
      "+---------------------+----------------------+-----------+\n",
      "|namespace            |tableName             |isTemporary|\n",
      "+---------------------+----------------------+-----------+\n",
      "|bnk_mlops_hol_ozarate|bank_marketing_ozarate|false      |\n",
      "+---------------------+----------------------+-----------+\n",
      "\n"
     ]
    },
    {
     "name": "stderr",
     "output_type": "stream",
     "text": [
      "                                                                                \r"
     ]
    }
   ],
   "source": [
    "# Show tables in bnk_mlops_hol_ozarate\n",
    "print(\"Tables in bnk_mlops_hol_ozarate:\")\n",
    "spark.sql(\"SHOW TABLES IN bnk_mlops_hol_ozarate\").show(truncate=False)"
   ]
  },
  {
   "cell_type": "code",
   "execution_count": null,
   "id": "2d6ed076-441a-44c5-907f-a7a5c16b011a",
   "metadata": {},
   "outputs": [],
   "source": []
  },
  {
   "cell_type": "code",
   "execution_count": 5,
   "id": "6a5a15d7-714f-4ab9-9d6e-4034241e68ce",
   "metadata": {},
   "outputs": [
    {
     "name": "stdout",
     "output_type": "stream",
     "text": [
      "Before dropping:\n",
      "+--------------------------+\n",
      "|namespace                 |\n",
      "+--------------------------+\n",
      "|amiranda_airlines         |\n",
      "|amiranda_airlines_raw     |\n",
      "|bnk_mlops_hol_ozarate     |\n",
      "|bnk_mlops_hol_test_ozarate|\n",
      "|default                   |\n",
      "|information_schema        |\n",
      "|sys                       |\n",
      "+--------------------------+\n",
      "\n",
      "Successfully dropped bnk_mlops_hol_test_ozarate\n",
      "After dropping:\n",
      "+---------------------+\n",
      "|namespace            |\n",
      "+---------------------+\n",
      "|amiranda_airlines    |\n",
      "|amiranda_airlines_raw|\n",
      "|bnk_mlops_hol_ozarate|\n",
      "|default              |\n",
      "|information_schema   |\n",
      "|sys                  |\n",
      "+---------------------+\n",
      "\n"
     ]
    }
   ],
   "source": [
    "# # Drop the unwanted database\n",
    "# # spark.sql(\"DROP DATABASE bnk_mlops_hol_test CASCADE\")\n",
    "# # List current databases\n",
    "# print(\"Before dropping:\")\n",
    "# spark.sql(\"SHOW DATABASES\").show(truncate=False)\n",
    "\n",
    "# # Try to drop with error handling\n",
    "# try:\n",
    "#     spark.sql(\"DROP DATABASE bnk_mlops_hol_test CASCADE\")\n",
    "#     print(\"Successfully dropped bnk_mlops_hol_test\")\n",
    "# except Exception as e:\n",
    "#     print(f\"Error dropping database: {str(e)}\")\n",
    "\n",
    "# # Verify\n",
    "# print(\"After dropping:\")\n",
    "# spark.sql(\"SHOW DATABASES\").show(truncate=False)\n",
    "\n",
    "# List current databases\n",
    "print(\"Before dropping:\")\n",
    "spark.sql(\"SHOW DATABASES\").show(truncate=False)\n",
    "\n",
    "# Drop the correct database\n",
    "try:\n",
    "    spark.sql(\"DROP DATABASE bnk_mlops_hol_test_ozarate CASCADE\")\n",
    "    print(\"Successfully dropped bnk_mlops_hol_test_ozarate\")\n",
    "except Exception as e:\n",
    "    print(f\"Error dropping database: {str(e)}\")\n",
    "\n",
    "# Verify\n",
    "print(\"After dropping:\")\n",
    "spark.sql(\"SHOW DATABASES\").show(truncate=False)"
   ]
  },
  {
   "cell_type": "code",
   "execution_count": 7,
   "id": "d2843d8d-7681-4125-90aa-d06778087f2b",
   "metadata": {},
   "outputs": [
    {
     "data": {
      "text/plain": [
       "'ozarate'"
      ]
     },
     "execution_count": 7,
     "metadata": {},
     "output_type": "execute_result"
    }
   ],
   "source": [
    "import os\n",
    "os.environ[\"PROJECT_OWNER\"]"
   ]
  },
  {
   "cell_type": "code",
   "execution_count": 8,
   "id": "057ca2e0-240d-434d-af2d-8d3037126014",
   "metadata": {},
   "outputs": [
    {
     "data": {
      "text/plain": [
       "'se-aws-edl'"
      ]
     },
     "execution_count": 8,
     "metadata": {},
     "output_type": "execute_result"
    }
   ],
   "source": [
    "os.environ[\"CONNECTION_NAME\"]"
   ]
  },
  {
   "cell_type": "code",
   "execution_count": 11,
   "id": "1e3fd2c4-a9cd-48e6-8fe7-8326839c0019",
   "metadata": {},
   "outputs": [],
   "source": [
    "USERNAME = os.environ[\"PROJECT_OWNER\"]\n",
    "DBNAME = \"bnk_mlops_\"+USERNAME"
   ]
  },
  {
   "cell_type": "code",
   "execution_count": 12,
   "id": "a3cb536b-3917-4eb9-a3dc-1331fbbd09e6",
   "metadata": {},
   "outputs": [
    {
     "data": {
      "text/plain": [
       "'bnk_mlops_ozarate'"
      ]
     },
     "execution_count": 12,
     "metadata": {},
     "output_type": "execute_result"
    }
   ],
   "source": [
    "DBNAME"
   ]
  },
  {
   "cell_type": "code",
   "execution_count": 13,
   "id": "333ff781-b88d-4829-b8c6-68fda9659890",
   "metadata": {},
   "outputs": [],
   "source": [
    "spark.stop()"
   ]
  },
  {
   "cell_type": "code",
   "execution_count": null,
   "id": "05f1dd8e-b7ca-439a-b48e-04baa3b87c8d",
   "metadata": {},
   "outputs": [],
   "source": []
  }
 ],
 "metadata": {
  "kernelspec": {
   "display_name": "Python 3 (ipykernel)",
   "language": "python",
   "name": "python3"
  },
  "language_info": {
   "codemirror_mode": {
    "name": "ipython",
    "version": 3
   },
   "file_extension": ".py",
   "mimetype": "text/x-python",
   "name": "python",
   "nbconvert_exporter": "python",
   "pygments_lexer": "ipython3",
   "version": "3.10.16"
  }
 },
 "nbformat": 4,
 "nbformat_minor": 5
}
